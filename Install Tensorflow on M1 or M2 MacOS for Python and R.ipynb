{
 "cells": [
  {
   "cell_type": "markdown",
   "id": "ad1016a4",
   "metadata": {},
   "source": [
    "*This documentation was compiled on May 25, 2023. Please refer to the [reference link](#ref) if there is an update from the Apple Developer.*\n",
    "\n",
    "Author: [hwulanayu](https://github.com/hwulanayu)"
   ]
  },
  {
   "cell_type": "markdown",
   "id": "47c4022f",
   "metadata": {},
   "source": [
    "# For Python Miniconda/Miniforge Environment"
   ]
  },
  {
   "cell_type": "markdown",
   "id": "00828b6c",
   "metadata": {},
   "source": [
    "## 1. [Homebrew](https://brew.sh/) Installation\n",
    "\n",
    "Make sure install the Homebrew on your mac. Open your terminal (f4 + \"Terminal\") and paste this command:\n",
    "\n",
    "```\n",
    "/bin/bash -c \"$(curl -fsSL https://raw.githubusercontent.com/Homebrew/install/HEAD/install.sh)\"\n",
    "```\n",
    "Homebrew simplifies the installation of software on Apple's operating system, macOS, as well as Linux. \n",
    "\n",
    "> Official Documentation: [homebrew](https://brew.sh/)"
   ]
  },
  {
   "cell_type": "markdown",
   "id": "7f9abd2a",
   "metadata": {},
   "source": [
    "## 2. Xcode Installation\n",
    "\n",
    "Check on your mac if Xcode Command Line already installed. If not, you can paste this command on Terminal:\n",
    "\n",
    "```\n",
    "xcode-select --install\n",
    "```\n",
    "Xcode Command Line Tools are an additional install which allows to compile applications from the command line (instead of using the Xcode application)."
   ]
  },
  {
   "cell_type": "markdown",
   "id": "32ce37ed",
   "metadata": {},
   "source": [
    "## 3. Miniforge/Miniconda Installation<a name=\"three\"></a>\n",
    "\n",
    "Install miniforge for arm64 (Apple Silicon). Miniforge enables installing python packages natively compiled for Apple Silicon. \n",
    "\n",
    "Note: If you already installed Anaconda Package Manager, uninstall it to avoid further errors. You can paste this code **one-by-one** on your Terminal:\n",
    "\n",
    "```\n",
    "conda install anaconda-clean \n",
    "\n",
    "anaconda-clean --yes\n",
    "\n",
    "sudo rm -rf /anaconda3\n",
    "```\n",
    "\n",
    "Try this one if command above is not succesfull:\n",
    "\n",
    "```\n",
    "sudo rm -rf anaconda3\n",
    "sudo rm -rf ~/anaconda3\n",
    "sudo rm -rf ~/opt/anaconda3\n",
    "```\n",
    "Further reference to [uninstall Anaconda on macOS](https://docs.anaconda.com/free/anaconda/install/uninstall/#macos-or-linux)\n",
    "\n",
    "Install miniforge $\\rightarrow$ https://docs.conda.io/en/latest/miniconda.html. Download the **Miniconda3 macOS Apple M1 64-bit pkg**.\n",
    "\n",
    "Close your Terminal and open the new one. Make sure your miniconda installed correctly. By default, miniconda gives you `base` environment.\n",
    "\n",
    "<p align=\"center\" width=\"100%\">\n",
    "    <img width=\"65%\" src=\"assets/miniconda_terminal.png\">\n",
    "</p>"
   ]
  },
  {
   "cell_type": "markdown",
   "id": "5ca10429",
   "metadata": {},
   "source": [
    "## 4. Create Virtual Environment\n",
    "\n",
    "Create a virtual environment named `tensorflow_m2` or anything, really, with python3.8 or 3.9 or 3.10 installed.\n",
    "\n",
    "```\n",
    "conda create --name <YOUR_VIRTUAL_ENV_NAME> python=<PYTHON_VERSION>\n",
    "```\n",
    "\n",
    "Example:\n",
    "\n",
    "```\n",
    "conda create --name tensorflow_m2 python=3.8\n",
    "```\n",
    "\n",
    "<p align=\"center\" width=\"100%\">\n",
    "    <img width=\"65%\" src=\"assets/virtual_env_terminal.png\">\n",
    "</p>\n",
    "\n",
    "type `y` and enter.\n",
    "\n",
    "Activate your virtual environment with this command:\n",
    "\n",
    "```\n",
    "conda activate <YOUR_VIRTUAL_ENV_NAME>\n",
    "```\n",
    "\n",
    "example:\n",
    "```\n",
    "conda activate tensorflow_m2\n",
    "```\n",
    "\n",
    "<p align=\"center\" width=\"100%\">\n",
    "    <img width=\"65%\" src=\"assets/activate_env_terminal.png\">\n",
    "</p>"
   ]
  },
  {
   "cell_type": "markdown",
   "id": "fe8f73a6",
   "metadata": {},
   "source": [
    "## 5. Installing Tensorflow-MacOS libraries<a name=\"five\"></a>\n",
    "\n",
    "This is the crucial step especially with the library version. You have to specifically list the exact version or your tensorflow wont run correctly.\n",
    "\n",
    "Choose one set that does not output an error:\n",
    "\n",
    "```\n",
    "conda install -c apple tensorflow-deps==2.10.0\n",
    "python -m pip install tensorflow-macos==2.10.0\n",
    "python -m pip install tensorflow-metal==0.6.0\n",
    "```\n",
    "\n",
    "or\n",
    "\n",
    "```\n",
    "conda install -c apple tensorflow-deps==2.9.0\n",
    "python -m pip install tensorflow-macos==2.9.0\n",
    "python -m pip install tensorflow-metal==0.5.0\n",
    "```\n",
    "\n",
    "After installation above, check the package/library version with this command:\n",
    "\n",
    "```\n",
    "python --version\n",
    "conda list|grep -E '(tensorflow|numpy)'\n",
    "```\n",
    "\n",
    "<p align=\"center\" width=\"100%\">\n",
    "    <img width=\"65%\" src=\"assets/check_version_terminal.png\">\n",
    "</p>\n",
    "\n",
    "Make sure there's numpy library on your environment."
   ]
  },
  {
   "cell_type": "markdown",
   "id": "cffce93f",
   "metadata": {},
   "source": [
    "## 6. Jupyter Notebook Installation\n",
    "\n",
    "Back to your conda base environment with this command:\n",
    "\n",
    "```\n",
    "conda deactivate\n",
    "```\n",
    "\n",
    "<p align=\"center\" width=\"100%\">\n",
    "    <img width=\"65%\" src=\"assets/deactivate_terminal.png\">\n",
    "</p>\n",
    "\n",
    "Check if jupyter notebook already installed on your base env.\n",
    "\n",
    "```\n",
    "pip list\n",
    "```\n",
    "\n",
    "or\n",
    "\n",
    "```\n",
    "conda list\n",
    "```\n",
    "\n",
    "output example:\n",
    "\n",
    "```\n",
    "...\n",
    "jupyter-client           7.3.4\n",
    "jupyter_core             5.3.0\n",
    "jupyter-events           0.6.3\n",
    "jupyter-server           1.23.6\n",
    "jupyter_server_terminals 0.4.4\n",
    "jupyterlab-pygments      0.2.2\n",
    "...\n",
    "```\n",
    "\n",
    "If jupyter notebook note installed yet, install it with this command:\n",
    "\n",
    "```\n",
    "pip install notebook\n",
    "```\n",
    "\n",
    "Now that you already have jupyter notebook on base environment, activate the virtual environment that has the `tensorflow` library installed. \n",
    "\n",
    "```\n",
    "conda activate tensorflow_m2\n",
    "```\n",
    "\n",
    "Install ipykernel and pandas on virtual environment:\n",
    "\n",
    "```\n",
    "pip install pandas ipykernel\n",
    "\n",
    "```\n",
    "\n",
    "Create new kernel with this command:\n",
    "\n",
    "```\n",
    "python -m ipykernel install --user --name=<YOUR_KERNEL_NAME>\n",
    "```\n",
    "\n",
    "example:\n",
    "\n",
    "```\n",
    "python -m ipykernel install --user --name=tensorflow_m2\n",
    "```\n",
    "\n",
    "<p align=\"center\" width=\"100%\">\n",
    "    <img width=\"65%\" src=\"assets/ipykernel_terminal.png\">\n",
    "</p>\n",
    "\n",
    "Back to your `base` environment and type `jupyter notebook` on your terminal. It will open a localhost browser tab.\n",
    "\n",
    "<p align=\"center\" width=\"100%\">\n",
    "    <img width=\"65%\" src=\"assets/localhost_jupyter.png\">\n",
    "</p>\n",
    "\n",
    "Create New Notebook with the new kernel.\n",
    "\n",
    "On upper right jupyter notebook localhost, click `New` button, select the kernel that has tensorflow installed on its environment. On your new notebook, import TensorFlow and paste this code:"
   ]
  },
  {
   "cell_type": "code",
   "execution_count": 2,
   "id": "158c189b",
   "metadata": {},
   "outputs": [
    {
     "name": "stdout",
     "output_type": "stream",
     "text": [
      "Num GPUs Available:  1\n"
     ]
    }
   ],
   "source": [
    "import tensorflow as tf\n",
    "print(\"Num GPUs Available: \", len(tf.config.experimental.list_physical_devices('GPU')))"
   ]
  },
  {
   "cell_type": "markdown",
   "id": "05bab1cc",
   "metadata": {},
   "source": [
    "## 7. Verify Installation\n",
    "\n",
    "From [Official Documentation](https://developer.apple.com/metal/tensorflow-plugin/), you can verify using this simple script:"
   ]
  },
  {
   "cell_type": "code",
   "execution_count": 3,
   "id": "12d219bf",
   "metadata": {},
   "outputs": [
    {
     "name": "stdout",
     "output_type": "stream",
     "text": [
      "Metal device set to: Apple M1\n"
     ]
    },
    {
     "name": "stderr",
     "output_type": "stream",
     "text": [
      "2023-05-25 19:08:54.776001: I tensorflow/core/common_runtime/pluggable_device/pluggable_device_factory.cc:305] Could not identify NUMA node of platform GPU ID 0, defaulting to 0. Your kernel may not have been built with NUMA support.\n",
      "2023-05-25 19:08:54.776164: I tensorflow/core/common_runtime/pluggable_device/pluggable_device_factory.cc:271] Created TensorFlow device (/job:localhost/replica:0/task:0/device:GPU:0 with 0 MB memory) -> physical PluggableDevice (device: 0, name: METAL, pci bus id: <undefined>)\n"
     ]
    },
    {
     "name": "stdout",
     "output_type": "stream",
     "text": [
      "Epoch 1/5\n"
     ]
    },
    {
     "name": "stderr",
     "output_type": "stream",
     "text": [
      "2023-05-25 19:08:55.767384: W tensorflow/core/platform/profile_utils/cpu_utils.cc:128] Failed to get CPU frequency: 0 Hz\n",
      "/opt/miniconda3/envs/tensorflow_m2/lib/python3.8/site-packages/tensorflow/python/util/dispatch.py:1082: UserWarning: \"`sparse_categorical_crossentropy` received `from_logits=True`, but the `output` argument was produced by a sigmoid or softmax activation and thus does not represent logits. Was this intended?\"\n",
      "  return dispatch_target(*args, **kwargs)\n",
      "2023-05-25 19:08:57.685235: I tensorflow/core/grappler/optimizers/custom_graph_optimizer_registry.cc:113] Plugin optimizer for device_type GPU is enabled.\n"
     ]
    },
    {
     "name": "stdout",
     "output_type": "stream",
     "text": [
      "782/782 [==============================] - 127s 158ms/step - loss: 4.8612 - accuracy: 0.0606\n",
      "Epoch 2/5\n",
      "782/782 [==============================] - 122s 156ms/step - loss: 4.5699 - accuracy: 0.0862\n",
      "Epoch 3/5\n",
      "782/782 [==============================] - 122s 156ms/step - loss: 4.1519 - accuracy: 0.1116\n",
      "Epoch 4/5\n",
      "782/782 [==============================] - 122s 156ms/step - loss: 3.7930 - accuracy: 0.1513\n",
      "Epoch 5/5\n",
      "782/782 [==============================] - 123s 157ms/step - loss: 3.5854 - accuracy: 0.1827\n"
     ]
    },
    {
     "data": {
      "text/plain": [
       "<keras.callbacks.History at 0x2a4d557c0>"
      ]
     },
     "execution_count": 3,
     "metadata": {},
     "output_type": "execute_result"
    }
   ],
   "source": [
    "import tensorflow as tf\n",
    "\n",
    "cifar = tf.keras.datasets.cifar100\n",
    "(x_train, y_train), (x_test, y_test) = cifar.load_data()\n",
    "model = tf.keras.applications.ResNet50(\n",
    "    include_top=True,\n",
    "    weights=None,\n",
    "    input_shape=(32, 32, 3),\n",
    "    classes=100,)\n",
    "\n",
    "loss_fn = tf.keras.losses.SparseCategoricalCrossentropy(from_logits=True)\n",
    "model.compile(optimizer=\"adam\", loss=loss_fn, metrics=[\"accuracy\"])\n",
    "model.fit(x_train, y_train, epochs=5, batch_size=64)"
   ]
  },
  {
   "cell_type": "markdown",
   "id": "ff326f94",
   "metadata": {},
   "source": [
    "If you can run above script successfully, congrats, you have finished the tensorflow installation! "
   ]
  },
  {
   "cell_type": "markdown",
   "id": "4b59f5d2",
   "metadata": {},
   "source": [
    "# For R and RStudio environment"
   ]
  },
  {
   "cell_type": "markdown",
   "id": "9763eff5",
   "metadata": {},
   "source": [
    "Follow steps [**three**](#three) to step [**five**](#five) on the Python installation above. If you have done it, proceed with the steps below. Make sure the laptop has the [R programming languages](http://lib.stat.cmu.edu/R/CRAN/) and [RStudio IDE](https://posit.co/download/rstudio-desktop/) installed."
   ]
  },
  {
   "cell_type": "markdown",
   "id": "4af16c88",
   "metadata": {},
   "source": [
    "##  Edit ~/.Renviron and Find Python Virtual Env Path\n",
    "\n",
    "On your Terminal, activate your virtual environment. Paste this command to your Terminal.\n",
    "\n",
    "```\n",
    "echo \"RETICULATE_PYTHON=~/miniforge3/envs/<YOUR_ENV_NAME>/bin/python\" >> ~/.Renviron\n",
    "```\n",
    "\n",
    "example:\n",
    "\n",
    "```\n",
    "echo \"RETICULATE_PYTHON=~/miniforge3/envs/tensorflow_m2/bin/python\" >> ~/.Renviron\n",
    "```\n",
    "\n",
    "Check your Python virtual environment path with this command:\n",
    "\n",
    "```\n",
    "which python\n",
    "```\n",
    "\n",
    "<p align=\"center\" width=\"100%\">\n",
    "    <img width=\"65%\" src=\"assets/which_python_terminal.png\">\n",
    "</p>\n",
    "\n",
    "\n",
    "Copy the output path and save it somewhere. We're going to use it in RStudio."
   ]
  },
  {
   "cell_type": "markdown",
   "id": "a7ad8987",
   "metadata": {},
   "source": [
    "## RStudio Settings\n",
    "\n",
    "### `keras` and `tensorflow` Library Installation\n",
    "\n",
    "Open RStudio, install `keras` dan `tensorflow` libraries. On lower left Panel, click `Packages` tab > Install > type the library name.\n",
    "\n",
    "<p align=\"center\" width=\"100%\">\n",
    "    <img width=\"80%\" src=\"assets/rstudio_install.png\">\n",
    "</p>\n",
    "\n",
    "### Set `reticulate` environment\n",
    "\n",
    "Open R-Studio and restart R-Session: Click menu `Session` $\\rightarrow$ `Restart R`. On Console panel, run this scripts **one-by-one**:\n",
    "\n",
    "```R\n",
    "> Sys.setenv(RETICULATE_PYTHON = \"<PYTHON_ENV_PATH FROM_WHICH_PYTHON_COMMAND>\")\n",
    "> reticulate::use_python(\"<PYTHON_ENV_PATH FROM_WHICH_PYTHON_COMMAND>\")\n",
    "> reticulate::use_condaenv(\"<YOUR_ENV_NAME>\", required = TRUE)\n",
    "\n",
    "> library(tensorflow)\n",
    "> tf_config() \n",
    "> tf_version() \n",
    "> tf$config$list_logical_devices()\n",
    "```\n",
    "\n",
    "example:\n",
    "\n",
    "```R\n",
    "> Sys.setenv(RETICULATE_PYTHON = \"/opt/miniconda3/envs/tensorflow_m2/bin/python\")\n",
    "> reticulate::use_python(\"/opt/miniconda3/envs/tensorflow_m2/bin/python\")\n",
    "> reticulate::use_condaenv(\"tensorflow_m2\", required = TRUE)\n",
    "\n",
    "> library(tensorflow)\n",
    "> tf_config() \n",
    "> tf_version() \n",
    "> tf$config$list_logical_devices()\n",
    "```\n",
    "\n",
    "### Set Global Options\n",
    "\n",
    "If there are no errors from all the line codes above, please go to menu `Tools` > `Global Options` > `Python`. In the Python Interpreter Section, remove the default path, and replace it with the Python path output from `tf_config()` above. For example, if the output looks like this:\n",
    "\n",
    "```R\n",
    "> tf_config() \n",
    "TensorFlow v2.9.0 (/opt/miniconda3/envs/tensorflow_m2/lib/python3.8/site-packages/tensorflow)\n",
    "Python v3.8 (/opt/miniconda3/envs/tensorflow_m2/bin/python3.8)\n",
    "```\n",
    "\n",
    "it means that what you entered in `Global Options` is \"/opt/miniconda3/envs/tensorflow_m1/bin/python3.8\". (minus the quotation marks).\n",
    "\n",
    "<p align=\"center\" width=\"100%\">\n",
    "    <img width=\"80%\" src=\"assets/rstudio_global_option.png\">\n",
    "</p>\n",
    "\n",
    "\n",
    "## Verify Installation\n",
    "If so, try to close Rstudio and open some R project that uses TensorFlow. Run All and make sure all the code can work. Or you can verify your installation with this code:\n",
    "\n",
    "```R\n",
    "> library(keras)\n",
    "> model <- keras_model_sequential()\n",
    "```\n",
    "\n",
    "The `model` variable should be appear on your global environment and if there is no error, then it is ready to use."
   ]
  },
  {
   "cell_type": "markdown",
   "id": "7201e203",
   "metadata": {},
   "source": [
    "# References<a name=\"ref\"></a>\n",
    "\n",
    "## Python\n",
    "\n",
    "- [Miniconda Official Documentation](https://docs.conda.io/en/latest/miniconda.html)\n",
    "- [Prabhat Kumar Sahu's Medium blog](https://caffeinedev.medium.com/how-to-install-tensorflow-on-m1-mac-8e9b91d93706)\n",
    "- [Miniforge github](https://github.com/conda-forge/miniforge)\n",
    "- [Apple Developer Official Documentation](https://developer.apple.com/metal/tensorflow-plugin/)\n",
    "- [Apple Developer Forum Thread](https://developer.apple.com/forums/thread/702851)\n",
    "- [Stackoverflow: What is the proper way to install TensorFlow on Apple M1 in 2022](https://stackoverflow.com/questions/72964800/what-is-the-proper-way-to-install-tensorflow-on-apple-m1-in-2022)\n",
    "\n",
    "## R\n",
    "\n",
    "- [Stackoverflow: How to install keras using R Studio on a Mac OS computer?](https://stackoverflow.com/questions/71355902/how-to-install-keras-using-r-studio-on-a-mac-os-computer)\n",
    "- [Github Discussion: Error install tensorflow di R dengan chipset m1/m2](https://github.com/teamalgoritma/community/discussions/622)\n",
    "- [Stackoverflow: R (RStudio) can't find valid tensorflow installation (Mac M1)](https://stackoverflow.com/questions/74953200/r-rstudio-cant-find-valid-tensorflow-installation-mac-m1)"
   ]
  }
 ],
 "metadata": {
  "kernelspec": {
   "display_name": "tensorflow_m2",
   "language": "python",
   "name": "tensorflow_m2"
  },
  "language_info": {
   "codemirror_mode": {
    "name": "ipython",
    "version": 3
   },
   "file_extension": ".py",
   "mimetype": "text/x-python",
   "name": "python",
   "nbconvert_exporter": "python",
   "pygments_lexer": "ipython3",
   "version": "3.8.16"
  },
  "toc": {
   "base_numbering": 1,
   "nav_menu": {},
   "number_sections": true,
   "sideBar": true,
   "skip_h1_title": false,
   "title_cell": "Table of Contents",
   "title_sidebar": "Contents",
   "toc_cell": false,
   "toc_position": {
    "height": "calc(100% - 180px)",
    "left": "10px",
    "top": "150px",
    "width": "303px"
   },
   "toc_section_display": true,
   "toc_window_display": false
  },
  "varInspector": {
   "cols": {
    "lenName": 16,
    "lenType": 16,
    "lenVar": 40
   },
   "kernels_config": {
    "python": {
     "delete_cmd_postfix": "",
     "delete_cmd_prefix": "del ",
     "library": "var_list.py",
     "varRefreshCmd": "print(var_dic_list())"
    },
    "r": {
     "delete_cmd_postfix": ") ",
     "delete_cmd_prefix": "rm(",
     "library": "var_list.r",
     "varRefreshCmd": "cat(var_dic_list()) "
    }
   },
   "types_to_exclude": [
    "module",
    "function",
    "builtin_function_or_method",
    "instance",
    "_Feature"
   ],
   "window_display": false
  }
 },
 "nbformat": 4,
 "nbformat_minor": 5
}
